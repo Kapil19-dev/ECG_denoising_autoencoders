{
 "cells": [
  {
   "cell_type": "code",
   "execution_count": 4,
   "metadata": {},
   "outputs": [],
   "source": [
    "import numpy as np\n",
    "import pandas as pd"
   ]
  },
  {
   "cell_type": "code",
   "execution_count": 5,
   "metadata": {},
   "outputs": [],
   "source": [
    "data=pd.read_csv('mitbih_train.csv')"
   ]
  },
  {
   "cell_type": "code",
   "execution_count": 6,
   "metadata": {},
   "outputs": [],
   "source": [
    "DF=pd.DataFrame(data)"
   ]
  },
  {
   "cell_type": "code",
   "execution_count": 27,
   "metadata": {},
   "outputs": [],
   "source": [
    "import matplotlib.pyplot as plt"
   ]
  },
  {
   "cell_type": "code",
   "execution_count": 8,
   "metadata": {},
   "outputs": [],
   "source": [
    "new_column_name = ['label']\n",
    "for num in range(DF.shape[1]-1):\n",
    "    tem = 'dim' + str(num)\n",
    "    new_column_name.append(tem)\n",
    "DF.columns = new_column_name    \n"
   ]
  },
  {
   "cell_type": "code",
   "execution_count": 19,
   "metadata": {},
   "outputs": [],
   "source": [
    "train_MI=DF.iloc[0:7000]\n",
    "test_MI=DF.iloc[7000:9000]"
   ]
  },
  {
   "cell_type": "code",
   "execution_count": 18,
   "metadata": {},
   "outputs": [],
   "source": [
    "train=np.asarray(train_MI)\n",
    "train=train.reshape(7000, 188, 1)"
   ]
  },
  {
   "cell_type": "code",
   "execution_count": 17,
   "metadata": {},
   "outputs": [],
   "source": [
    "test=np.asarray(test_MI)\n",
    "test=test.reshape(2000, 188, 1)"
   ]
  },
  {
   "cell_type": "code",
   "execution_count": 94,
   "metadata": {},
   "outputs": [
    {
     "data": {
      "image/png": "[encoded data removed]",
      "text/plain": [
       "<Figure size 432x288 with 1 Axes>"
      ]
     },
     "metadata": {
      "needs_background": "light"
     },
     "output_type": "display_data"
    }
   ],
   "source": [
    "fig=plt.plot(train[0])\n",
    "plt.savefig('images_ecg/1.png')"
   ]
  },
  {
   "cell_type": "code",
   "execution_count": 13,
   "metadata": {},
   "outputs": [
    {
     "name": "stdout",
     "output_type": "stream",
     "text": [
      "Net(\n",
      "  (fc1): Linear(in_features=188, out_features=90, bias=True)\n",
      "  (fc2): Linear(in_features=90, out_features=40, bias=True)\n",
      "  (fc3): Linear(in_features=40, out_features=25, bias=True)\n",
      "  (fc4): Linear(in_features=25, out_features=40, bias=True)\n",
      "  (fc5): Linear(in_features=40, out_features=90, bias=True)\n",
      "  (fc6): Linear(in_features=90, out_features=188, bias=True)\n",
      "  (dropout): Dropout(p=0.2)\n",
      ")\n"
     ]
    }
   ],
   "source": [
    "import torch\n",
    "import torch.nn as nn\n",
    "import torch.nn.functional as F\n",
    "\n",
    "# define the NN architecture\n",
    "class Net(nn.Module):\n",
    "    def __init__(self):\n",
    "        super(Net, self).__init__()\n",
    "        # number of hidden nodes in each layer (512)\n",
    "        hidden_1 =90\n",
    "        hidden_2 =40\n",
    "        hidden_3=25\n",
    "        # linear layer (784 -> hidden_1)\n",
    "        self.fc1 = nn.Linear(188,90)\n",
    "        # linear layer (n_hidden -> hidden_2)\n",
    "        self.fc2 = nn.Linear(90, 40)\n",
    "        # linear layer (n_hidden -> 10)\n",
    "        self.fc3 = nn.Linear(40, 25)\n",
    "        self.fc4=nn.Linear(25,40)\n",
    "        self.fc5=nn.Linear(40,90)\n",
    "        self.fc6=nn.Linear(90,188)\n",
    "        self.dropout = nn.Dropout(0.2)\n",
    "\n",
    "    def encoder(self, x):\n",
    "        x=x.squeeze()\n",
    "        x = F.relu(self.fc1(x))\n",
    "        x = self.dropout(x)\n",
    "        x = F.relu(self.fc2(x))\n",
    "        x = self.dropout(x)\n",
    "        x = self.fc3(x)\n",
    "        x=F.relu(x)\n",
    "        x=self.dropout(x)\n",
    "        return x\n",
    "    def decoder(self,x):\n",
    "        x = F.relu(self.fc4(x))\n",
    "        x = self.dropout(x)\n",
    "        x = F.relu(self.fc5(x))\n",
    "        x = self.dropout(x)\n",
    "        x = self.fc6(x)\n",
    "        x=x.view(-1)\n",
    "        return x\n",
    "# initialize the NN\n",
    "model = Net()\n",
    "print(model)"
   ]
  },
  {
   "cell_type": "code",
   "execution_count": 14,
   "metadata": {},
   "outputs": [
    {
     "data": {
      "text/plain": [
       "Net(\n",
       "  (fc1): Linear(in_features=188, out_features=90, bias=True)\n",
       "  (fc2): Linear(in_features=90, out_features=40, bias=True)\n",
       "  (fc3): Linear(in_features=40, out_features=25, bias=True)\n",
       "  (fc4): Linear(in_features=25, out_features=40, bias=True)\n",
       "  (fc5): Linear(in_features=40, out_features=90, bias=True)\n",
       "  (fc6): Linear(in_features=90, out_features=188, bias=True)\n",
       "  (dropout): Dropout(p=0.2)\n",
       ")"
      ]
     },
     "execution_count": 14,
     "metadata": {},
     "output_type": "execute_result"
    }
   ],
   "source": [
    "model.double()"
   ]
  },
  {
   "cell_type": "code",
   "execution_count": 39,
   "metadata": {},
   "outputs": [],
   "source": [
    "# specify loss function (categorical cross-entropy)\n",
    "criterion = nn.MSELoss()\n",
    "\n",
    "# specify optimizer (stochastic gradient descent) and learning rate = 0.01\n",
    "optimizer = torch.optim.Adam(model.parameters(), lr=0.06)"
   ]
  },
  {
   "cell_type": "code",
   "execution_count": 40,
   "metadata": {},
   "outputs": [
    {
     "name": "stdout",
     "output_type": "stream",
     "text": [
      "Epoch: 1 \tTraining Loss: 7.066212 \tValidation Loss: 8.077022\n",
      "Epoch: 2 \tTraining Loss: 6.871409 \tValidation Loss: 8.077101\n",
      "Epoch: 3 \tTraining Loss: 6.871416 \tValidation Loss: 8.077101\n"
     ]
    },
    {
     "data": {
      "image/png": "[encoded data removed]",
      "text/plain": [
       "<Figure size 432x288 with 1 Axes>"
      ]
     },
     "metadata": {
      "needs_background": "light"
     },
     "output_type": "display_data"
    }
   ],
   "source": [
    "# number of epochs to train the model\n",
    "n_epochs = 3\n",
    "\n",
    "# initialize tracker for minimum validation loss\n",
    "valid_loss_min = np.Inf # set initial \"min\" to infinity\n",
    "\n",
    "for epoch in range(n_epochs):\n",
    "    # monitor training loss\n",
    "    train_loss = 0.0\n",
    "    valid_loss = 0.0\n",
    "    model.train() # prep model for training\n",
    "    for i in range(len(train)):\n",
    "        optimizer.zero_grad()\n",
    "        # forward pass: compute predicted outputs by passing inputs to the model\n",
    "        b=torch.from_numpy(train[i])\n",
    "        compressed = model.encoder(b)\n",
    "        output=model.decoder(compressed)\n",
    "        # calculate the loss\n",
    "        loss = criterion(output,b.squeeze())\n",
    "        # backward pass: compute gradient of the loss with respect to model parameters\n",
    "        loss.backward()\n",
    "        # perform a single optimization step (parameter update)\n",
    "        optimizer.step()\n",
    "        # update running training loss\n",
    "        train_loss += loss.item()*b.size(0)\n",
    "    model.eval() # prep model for evaluation\n",
    "    for j in range(len(test)):\n",
    "        # forward pass: compute predicted outputs by passing inputs to the model\n",
    "        c=torch.from_numpy(train[i])\n",
    "        compressed = model.encoder(c)\n",
    "        output=model.decoder(compressed)\n",
    "        # calculate the loss\n",
    "        loss = criterion(output,c.squeeze())\n",
    "        # update running validation loss \n",
    "        valid_loss += loss.item()*c.size(0)\n",
    "        if j==len(test)-1:\n",
    "            plt.plot(test[j])\n",
    "            plt.plot(output.detach().numpy())\n",
    "        \n",
    "    # print training/validation statistics \n",
    "    # calculate average loss over an epoch\n",
    "    train_loss = train_loss/len(train)\n",
    "    valid_loss = valid_loss/len(test)\n",
    "    \n",
    "    print('Epoch: {} \\tTraining Loss: {:.6f} \\tValidation Loss: {:.6f}'.format(\n",
    "        epoch+1, \n",
    "        train_loss,\n",
    "        valid_loss\n",
    "        ))"
   ]
  },
  {
   "cell_type": "code",
   "execution_count": null,
   "metadata": {},
   "outputs": [],
   "source": []
  },
  {
   "cell_type": "code",
   "execution_count": null,
   "metadata": {},
   "outputs": [],
   "source": []
  }
 ],
 "metadata": {
  "kernelspec": {
   "display_name": "Python 3",
   "language": "python",
   "name": "python3"
  },
  "language_info": {
   "codemirror_mode": {
    "name": "ipython",
    "version": 3
   },
   "file_extension": ".py",
   "mimetype": "text/x-python",
   "name": "python",
   "nbconvert_exporter": "python",
   "pygments_lexer": "ipython3",
   "version": "3.7.0"
  }
 },
 "nbformat": 4,
 "nbformat_minor": 2
}
